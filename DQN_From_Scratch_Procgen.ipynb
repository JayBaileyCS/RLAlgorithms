{
  "cells": [
    {
      "cell_type": "markdown",
      "metadata": {
        "id": "view-in-github",
        "colab_type": "text"
      },
      "source": [
        "<a href=\"https://colab.research.google.com/github/JayBaileyCS/RLAlgorithms/blob/main/DQN_From_Scratch_Procgen.ipynb\" target=\"_parent\"><img src=\"https://colab.research.google.com/assets/colab-badge.svg\" alt=\"Open In Colab\"/></a>"
      ]
    },
    {
      "cell_type": "code",
      "execution_count": null,
      "metadata": {
        "colab": {
          "base_uri": "https://localhost:8080/"
        },
        "id": "tYFhq4CgE60v",
        "outputId": "b1f68e5d-9754-4d13-f36c-f08a6558ad2a"
      },
      "outputs": [],
      "source": [
        "!pip install gym==0.23.0\n",
        "!pip install procgen==0.10.4"
      ]
    },
    {
      "cell_type": "code",
      "execution_count": null,
      "metadata": {
        "id": "PidqLNLwE4CL"
      },
      "outputs": [],
      "source": [
        "import random\n",
        "import gym\n",
        "import numpy as np\n",
        "import torch\n",
        "import torch.nn as nn\n",
        "import torch.nn.functional as F\n",
        "import matplotlib.pyplot as plt\n",
        "from torch.utils.tensorboard import SummaryWriter\n",
        "import copy\n",
        "import time\n",
        "from psutil import virtual_memory\n",
        "from procgen import ProcgenEnv"
      ]
    },
    {
      "cell_type": "code",
      "execution_count": null,
      "metadata": {
        "id": "NSudbBUQE1bQ"
      },
      "outputs": [],
      "source": [
        "class ResidualBlock(nn.Module):\n",
        "    def __init__(self, channels):\n",
        "        super().__init__()\n",
        "        self.conv0 = nn.Conv2d(in_channels=channels, out_channels=channels, kernel_size=3, padding=1)\n",
        "        self.conv1 = nn.Conv2d(in_channels=channels, out_channels=channels, kernel_size=3, padding=1)\n",
        "\n",
        "    def forward(self, x):\n",
        "        inputs = x\n",
        "        x = nn.functional.relu(x)\n",
        "        x = self.conv0(x)\n",
        "        x = nn.functional.relu(x)\n",
        "        x = self.conv1(x)\n",
        "        return x + inputs\n",
        "\n",
        "\n",
        "class ConvSequence(nn.Module):\n",
        "    def __init__(self, input_shape, out_channels):\n",
        "        super().__init__()\n",
        "        self._input_shape = input_shape\n",
        "        self._out_channels = out_channels\n",
        "        self.conv = nn.Conv2d(in_channels=self._input_shape[0], out_channels=self._out_channels, kernel_size=3, padding=1)\n",
        "        self.res_block0 = ResidualBlock(self._out_channels)\n",
        "        self.res_block1 = ResidualBlock(self._out_channels)\n",
        "\n",
        "    def forward(self, x):\n",
        "        x = self.conv(x)\n",
        "        x = nn.functional.max_pool2d(x, kernel_size=3, stride=2, padding=1)\n",
        "        x = self.res_block0(x)\n",
        "        x = self.res_block1(x)\n",
        "        assert x.shape[1:] == self.get_output_shape()\n",
        "        return x\n",
        "\n",
        "    def get_output_shape(self):\n",
        "        _c, h, w = self._input_shape\n",
        "        return (self._out_channels, (h + 1) // 2, (w + 1) // 2)\n",
        "\n",
        "\n",
        "class DeepQNetwork(nn.Module):\n",
        "    def __init__(self, env):\n",
        "        super(DeepQNetwork, self).__init__()\n",
        "        h, w, c = env.single_observation_space.shape\n",
        "        shape = (c, h, w)\n",
        "        conv_seqs = []\n",
        "        for out_channels in [16, 32, 32]:\n",
        "            conv_seq = ConvSequence(shape, out_channels)\n",
        "            shape = conv_seq.get_output_shape()\n",
        "            conv_seqs.append(conv_seq)\n",
        "        conv_seqs += [\n",
        "            nn.Flatten(),\n",
        "            nn.ReLU(),\n",
        "            nn.Linear(in_features=shape[0] * shape[1] * shape[2], out_features=256),\n",
        "            nn.ReLU(),\n",
        "        ]\n",
        "        self.network = nn.Sequential(*conv_seqs, nn.Linear(256, env.single_action_space.n))\n",
        "\n",
        "    def forward(self, x):\n",
        "      return self.network(x.permute((0, 3, 1, 2)) / 255.0)"
      ]
    },
    {
      "cell_type": "code",
      "execution_count": null,
      "metadata": {
        "id": "q4d8G64REy9n"
      },
      "outputs": [],
      "source": [
        "# Instantiate the replay buffer\n",
        "class ReplayBuffer:\n",
        "\n",
        "  def __init__(self, max_frames):\n",
        "    self.max_frames = max_frames\n",
        "    self.buffer = np.zeros_like([0 for i in range(max_frames)], dtype=object)\n",
        "    self.index = 0\n",
        "\n",
        "  def add(self, frame):\n",
        "    frame[\"index\"] = [self.index]\n",
        "    self.buffer[self.index % self.max_frames] = frame\n",
        "    self.index = self.index + 1\n",
        "\n",
        "  def sample(self, num_samples):\n",
        "    experiences = np.random.choice(self.buffer[0:min(self.index-1, self.max_frames-1)], size=[num_samples], replace=True)\n",
        "    return {\"obs\": self.transform(experiences, \"obs\", np.float32, torch.float32, [num_samples, 64, 64, 3]),\n",
        "            \"next_obs\": self.get_next_obs_batch(experiences),\n",
        "            \"actions\": self.transform(experiences, \"action\", np.int32, torch.int64, [num_samples, 1]),\n",
        "            \"rewards\": self.transform(experiences, \"reward\", np.float32, torch.float32, [num_samples, 1]),\n",
        "            \"dones\": self.transform(experiences, \"done\", np.float32, torch.float32, [num_samples, 1])}\n",
        "\n",
        "  def transform(self, array, key, np_dtype, torch_dtype, shape):\n",
        "      item = [item[key] for item in array]\n",
        "      item = np.array(item, dtype=np_dtype)\n",
        "      item = torch.as_tensor(item, dtype=torch_dtype)\n",
        "      return item.reshape(shape)\n",
        "\n",
        "  def get_next_obs_batch(self, experiences):\n",
        "    indices = [experience[\"index\"][0] if experience[\"done\"][0] > 0 else experience[\"index\"][0] + 1 for experience in experiences]\n",
        "    next_obs_batch = [self.buffer[index % self.max_frames][\"obs\"] for index in indices]\n",
        "    return torch.as_tensor(np.array(next_obs_batch, dtype=np.float32), dtype=torch.float32).reshape(len(indices), 64, 64, 3)"
      ]
    },
    {
      "cell_type": "code",
      "execution_count": null,
      "metadata": {
        "id": "edQVsp6hEvkT"
      },
      "outputs": [],
      "source": [
        "def make_env(env_id, seed):\n",
        "      envs = ProcgenEnv(num_envs=1, env_name=env_id, num_levels=0, start_level=0, distribution_mode=\"easy\")\n",
        "      envs = gym.wrappers.TransformObservation(envs, lambda obs: obs[\"rgb\"])\n",
        "      envs.single_action_space = envs.action_space\n",
        "      envs.single_observation_space = envs.observation_space[\"rgb\"]\n",
        "      envs.is_vector_env = True\n",
        "      envs = gym.wrappers.RecordEpisodeStatistics(envs)\n",
        "      envs = gym.wrappers.NormalizeReward(envs)\n",
        "      envs = gym.wrappers.TransformReward(envs, lambda reward: np.clip(reward, -10, 10))\n",
        "      return envs"
      ]
    },
    {
      "cell_type": "code",
      "execution_count": null,
      "metadata": {
        "id": "JdYwvAdFEVWe"
      },
      "outputs": [],
      "source": [
        "# Helper functions\n",
        "def plot_results(steps, rewards, total_timesteps, avg, benchmark):\n",
        "  plt.plot([item for item in get_rolling_average(steps, avg)], \n",
        "          [item for item in get_rolling_average(rewards, avg)])\n",
        "  max_x = [0, total_timesteps]\n",
        "  max_y = [benchmark, benchmark] # Cartpole max.\n",
        "  plt.plot(max_x, max_y, color='r', ls=':')\n",
        "  plt.xlabel(f\"Number of Steps (Avg. {avg})\")\n",
        "  plt.ylabel(f\"Current Return (Avg. {avg})\")\n",
        "  plt.show()\n",
        "\n",
        "def get_rolling_average(items, num):\n",
        "    rolling = []\n",
        "    for i in range(len(items)-num):\n",
        "        rolling.append(sum(items[i:i+num])/num)\n",
        "    return rolling\n",
        "\n",
        "def calculate_epsilon(step, epsilon_start, epsilon_finish, \n",
        "                      total_timesteps, exploration_fraction):\n",
        "  finish_step = total_timesteps * exploration_fraction\n",
        "  if step > finish_step:\n",
        "    return epsilon_finish\n",
        "  epsilon_range = epsilon_start - epsilon_finish\n",
        "  return epsilon_finish + (((finish_step - step) / finish_step) * epsilon_range)\n",
        "\n",
        "def print_colab_info():\n",
        "  # Print GPU and RAM info for Colab instance.\n",
        "  gpu_info = !nvidia-smi\n",
        "  gpu_info = '\\n'.join(gpu_info)\n",
        "  if gpu_info.find('failed') >= 0:\n",
        "    print('Not connected to a GPU')\n",
        "  else:\n",
        "    print(gpu_info)\n",
        "  ram_gb = virtual_memory().total / 1e9\n",
        "  print('Your runtime has {:.1f} gigabytes of available RAM\\n'.format(ram_gb))"
      ]
    },
    {
      "cell_type": "code",
      "execution_count": null,
      "metadata": {
        "colab": {
          "background_save": true,
          "base_uri": "https://localhost:8080/"
        },
        "id": "Mq7ltQ8VEMeR",
        "outputId": "b6b74e17-f626-4de7-d4c3-341ee0a7400b"
      },
      "outputs": [
        {
          "data": {
            "image/png": "[encoded data removed]",
            "text/plain": [
              "<Figure size 432x288 with 1 Axes>"
            ]
          },
          "metadata": {},
          "output_type": "display_data"
        }
      ],
      "source": [
        "def train(env, total_timesteps, batch_size, buffer_size, train_frequency, seed,\n",
        "          target_network_update_frequency,  gamma, learning_rate, epsilon_start, \n",
        "          epsilon_finish, exploration_fraction, learn_start_size):\n",
        "  \n",
        "  env = make_env(env, seed)\n",
        "  device = torch.device(\"cuda\" if torch.cuda.is_available() else \"cpu\")\n",
        "\n",
        "  print(device)\n",
        "  print_colab_info()\n",
        "\n",
        "  writer = SummaryWriter(f\"runs/test\")\n",
        "  random.seed(seed)\n",
        "  np.random.seed(seed)\n",
        "  torch.manual_seed(seed)\n",
        "  torch.backends.cudnn.deterministic = True if seed > 0 else False\n",
        "\n",
        "  # Initialise replay memory D to capacity N\n",
        "  buffer = ReplayBuffer(buffer_size)\n",
        "\n",
        "  # Initialize action-value function Q and target network.\n",
        "  q_network = DeepQNetwork(env).to(device)\n",
        "  target_network = DeepQNetwork(env).to(device)\n",
        "  target_network.load_state_dict(q_network.state_dict())\n",
        "  optimiser = torch.optim.Adam(q_network.parameters(), learning_rate)\n",
        "\n",
        "  obs = env.reset()\n",
        "  episode_end_steps = []\n",
        "  episode_rewards = []\n",
        "  start_time = time.time()\n",
        "\n",
        "  for step in range(total_timesteps):\n",
        "\n",
        "    # Select random action with p(epsilon), else argmax(q).\n",
        "    epsilon = calculate_epsilon(step, epsilon_start, epsilon_finish, \n",
        "                                total_timesteps, exploration_fraction)\n",
        "    \n",
        "    if random.random() < epsilon:\n",
        "      action = env.action_space.sample()\n",
        "    else:\n",
        "      logits = q_network(torch.Tensor(obs).to(device))\n",
        "      action = torch.argmax(logits, dim=1).cpu().numpy()\n",
        "\n",
        "    next_obs, reward, done, info = env.step(np.array(torch.as_tensor(action).reshape(1,)))\n",
        "    next_obs_copy = next_obs.copy()\n",
        "\n",
        "    # Store transition in D. (Note: Can halve memory here by not storing next_obs and instead pointing to obs[index+1] in buffer?)\n",
        "    buffer.add({\"obs\": obs, \"action\": [action], \"reward\": [reward], \"done\": [1. if done else 0.]})\n",
        "    \n",
        "    if done and \"episode\" in info[0].keys():\n",
        "        print(f\"global_step={step}, episodic_return={info[0]['episode']['r']}\")\n",
        "        writer.add_scalar(\"charts/episodic_return\", info[0][\"episode\"][\"r\"], step)\n",
        "        writer.add_scalar(\"charts/episodic_length\", info[0][\"episode\"][\"l\"], step)\n",
        "        writer.add_scalar(\"charts/epsilon\", epsilon, step)\n",
        "        episode_end_steps.append(step)\n",
        "        episode_rewards.append(info[0]['episode']['r'])\n",
        "        obs = env.reset()\n",
        "        continue\n",
        "\n",
        "    obs = next_obs\n",
        "\n",
        "    if step > learn_start_size and step % train_frequency == 0:\n",
        "    \n",
        "      # Sample replay experiences.\n",
        "      experiences = buffer.sample(batch_size)\n",
        "      experiences = {i:j.to(device) for (i, j) in experiences.items()}\n",
        "\n",
        "      with torch.no_grad(): # We want to sample the Q-network here, but not update it yet.\n",
        "\n",
        "        target_max, _ = target_network(experiences[\"next_obs\"]).max(dim=1) # The _ removes the indices we don't want, leaving only the values.\n",
        "        td_target = experiences[\"rewards\"].flatten() + gamma * target_max * (1 - experiences[\"dones\"].flatten())\n",
        "\n",
        "      # Collect tensor of predicted rewards associated with the actions taken.\n",
        "      old_val = q_network(experiences[\"obs\"]).gather(1, experiences[\"actions\"]).squeeze()\n",
        "\n",
        "      # Calculate loss\n",
        "      loss = F.mse_loss(td_target, old_val)\n",
        "\n",
        "      # Gradient descent\n",
        "      optimiser.zero_grad()\n",
        "      loss.backward()\n",
        "      optimiser.step()\n",
        "\n",
        "      # Logs\n",
        "      if step % 1000 == 0:\n",
        "          writer.add_scalar(\"losses/td_loss\", loss, step)\n",
        "          writer.add_scalar(\"losses/q_values\", old_val.mean().item(), step)\n",
        "          print(\"SPS:\", int(step / (time.time() - start_time)))\n",
        "          writer.add_scalar(\"charts/SPS\", int(step / (time.time() - start_time)),step)\n",
        "\n",
        "    # Update target network.\n",
        "    if step % target_network_update_frequency == 0:\n",
        "      target_network.load_state_dict(q_network.state_dict())\n",
        "\n",
        "  env.close()\n",
        "  plot_results(episode_end_steps, episode_rewards, total_timesteps, 50, 34)\n",
        "\n",
        "train(env='starpilot', total_timesteps=5_000_000, batch_size=32, buffer_size=1_000_000, train_frequency=4, seed=1, target_network_update_frequency=1000, gamma=0.99, learning_rate=1e-4, epsilon_start=1, epsilon_finish=0.01, exploration_fraction=0.1, learn_start_size=80000)"
      ]
    }
  ],
  "metadata": {
    "accelerator": "GPU",
    "colab": {
      "machine_shape": "hm",
      "name": "DQN_Procgen.ipynb",
      "provenance": [],
      "authorship_tag": "ABX9TyOiY5NtCaqpOTGNbCaMEto6",
      "include_colab_link": true
    },
    "gpuClass": "standard",
    "kernelspec": {
      "display_name": "Python 3",
      "name": "python3"
    },
    "language_info": {
      "name": "python"
    }
  },
  "nbformat": 4,
  "nbformat_minor": 0
}
