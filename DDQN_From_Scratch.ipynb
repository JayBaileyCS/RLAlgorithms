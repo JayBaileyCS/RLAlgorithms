{
  "cells": [
    {
      "cell_type": "code",
      "execution_count": 110,
      "metadata": {
        "colab": {
          "base_uri": "https://localhost:8080/"
        },
        "id": "r4GQ0jMMFL0t",
        "outputId": "8393a6f1-c3ed-4984-bf31-b137ef9675e5"
      },
      "source": [
        "# This code replicates the algorithm from Human-Level Control Through Deep Reinforcement Learning (2015 Mnih et al) https://daiwk.github.io/assets/dqn.pdf\n",
        "!pip install gym"
      ]
    },
    {
      "cell_type": "code",
      "execution_count": 111,
      "metadata": {
        "id": "Y4rqrnyLUkEQ"
      },
      "outputs": [],
      "source": [
        "import random\n",
        "import gym\n",
        "import numpy as np\n",
        "import torch\n",
        "import torch.nn as nn\n",
        "import torch.nn.functional as F\n",
        "import matplotlib.pyplot as plt"
      ]
    },
    {
      "cell_type": "code",
      "execution_count": 112,
      "metadata": {
        "id": "9IMeaB7NFaLY"
      },
      "outputs": [],
      "source": [
        "# Instantiate the neural network\n",
        "class DeepQNetworkAtari(nn.Module):\n",
        "  def __init__(self, env):\n",
        "    super().__init__()\n",
        "    self.network = nn.Sequential(\n",
        "        nn.Conv2d(4, 32, 8, stride=4),\n",
        "        nn.ReLU(),\n",
        "        nn.Conv2d(32, 64, 4, stride=2),\n",
        "        nn.ReLU(),\n",
        "        nn.Conv2d(64, 64, 3, stride=1),\n",
        "        nn.ReLU(),\n",
        "        nn.Flatten(),\n",
        "        nn.Linear(2592, 512),\n",
        "        nn.ReLU(),\n",
        "        nn.Linear(512, env.action_space.n)\n",
        "    )\n",
        "\n",
        "  def forward(self, x):\n",
        "    self.network(x / 255.0) # Normalise pixel values to range [0, 1].\n",
        "\n",
        "class DeepQNetworkCartpole(nn.Module):\n",
        "  def __init__(self, env):\n",
        "        super().__init__()\n",
        "        self.network = nn.Sequential(\n",
        "            nn.Linear(np.array(env.observation_space.shape).prod(), 120),\n",
        "            nn.ReLU(),\n",
        "            nn.Linear(120, 84),\n",
        "            nn.ReLU(),\n",
        "            nn.Linear(84, env.action_space.n),\n",
        "        )\n",
        "        print(self.network)\n",
        "\n",
        "  def forward(self, x):\n",
        "      return self.network(x)"
      ]
    },
    {
      "cell_type": "code",
      "execution_count": 113,
      "metadata": {
        "id": "N5wytU6pHbIQ"
      },
      "outputs": [],
      "source": [
        "# Instantiate the replay buffer\n",
        "class ReplayBuffer:\n",
        "\n",
        "  def __init__(self, max_frames):\n",
        "    self.max_frames = max_frames\n",
        "    self.buffer = []\n",
        "\n",
        "  def add(self, frame):\n",
        "    self.buffer.append(frame)\n",
        "    if len(self.buffer) > self.max_frames:\n",
        "      del self.buffer[0:len(self.buffer)-self.max_frames]\n",
        "\n",
        "  def sample(self, num_samples):\n",
        "    sample_nums = set() # Ensure we don't pick the same frame twice.\n",
        "    while len(sample_nums) < num_samples:\n",
        "      sample_nums.add(random.randrange(len(self.buffer)))\n",
        "    experiences = [self.buffer[i] for i in sample_nums]\n",
        "    return {\"obs\": torch.stack([torch.as_tensor(experience[\"obs\"], dtype=torch.float32) for experience in experiences], 0),\n",
        "            \"next_obs\": torch.stack([torch.as_tensor(experience[\"next_obs\"], dtype=torch.float32) for experience in experiences], 0),\n",
        "            \"actions\": torch.stack([torch.as_tensor(experience[\"action\"], dtype=torch.int64) for experience in experiences], 0),\n",
        "            \"rewards\": torch.stack([torch.as_tensor(experience[\"reward\"], dtype=torch.float32) for experience in experiences], 0),\n",
        "            \"dones\": torch.stack([torch.as_tensor(experience[\"done\"], dtype=torch.float32) for experience in experiences], 0)}"
      ]
    },
    {
      "cell_type": "code",
      "execution_count": 114,
      "metadata": {
        "id": "didEj0sySJ8T"
      },
      "outputs": [],
      "source": [
        "# Helper functions\n",
        "def plot_results(steps, rewards, total_timesteps):\n",
        "  plt.plot([item for item in get_rolling_average(steps, 10)], \n",
        "          [item for item in get_rolling_average(rewards, 10)])\n",
        "  max_x = [0, total_timesteps]\n",
        "  max_y = [500, 500] # Cartpole max.\n",
        "  plt.plot(max_x, max_y, color='r', ls=':')\n",
        "  plt.xlabel(f\"Number of Steps (Avg. 10)\")\n",
        "  plt.ylabel(f\"Current Return (Avg. 10)\")\n",
        "  plt.show()\n",
        "\n",
        "def get_rolling_average(items, num):\n",
        "    rolling = []\n",
        "    for i in range(len(items)-num):\n",
        "        rolling.append(sum(items[i:i+num])/num)\n",
        "    return rolling\n",
        "\n",
        "def calculate_epsilon(step, epsilon_start, epsilon_finish, \n",
        "                      total_timesteps, exploration_fraction):\n",
        "  finish_step = total_timesteps * exploration_fraction\n",
        "  if step > finish_step:\n",
        "    return epsilon_finish\n",
        "  epsilon_range = epsilon_start - epsilon_finish\n",
        "  return epsilon_finish + (((finish_step - step) / finish_step) * epsilon_range)"
      ]
    },
    {
      "cell_type": "code",
      "execution_count": 115,
      "metadata": {
        "colab": {
          "base_uri": "https://localhost:8080/",
          "height": 1000
        },
        "id": "z46uMHlzJB67",
        "outputId": "6257ebb9-bd9b-41d2-9be9-05f308c8966f"
      },
      "outputs": [
        {
          "output_type": "stream",
          "name": "stdout",
          "text": [
            "Sequential(\n",
            "  (0): Linear(in_features=4, out_features=120, bias=True)\n",
            "  (1): ReLU()\n",
            "  (2): Linear(in_features=120, out_features=84, bias=True)\n",
            "  (3): ReLU()\n",
            "  (4): Linear(in_features=84, out_features=2, bias=True)\n",
            ")\n",
            "Sequential(\n",
            "  (0): Linear(in_features=4, out_features=120, bias=True)\n",
            "  (1): ReLU()\n",
            "  (2): Linear(in_features=120, out_features=84, bias=True)\n",
            "  (3): ReLU()\n",
            "  (4): Linear(in_features=84, out_features=2, bias=True)\n",
            ")\n",
            "global_step=47, episodic_return=47\n",
            "global_step=69, episodic_return=22\n",
            ...
            "global_step=99611, episodic_return=256\n",
            "global_step=99876, episodic_return=265\n"
          ]
        },
        {
          "output_type": "display_data",
          "data": {
            "text/plain": [
              "<Figure size 432x288 with 1 Axes>"
            ],
            "image/png": "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\n"
          },
          "metadata": {
            "needs_background": "light"
          }
        }
      ],
      "source": [
        "def train(env, total_timesteps, batch_size, buffer_size, train_frequency, seed,\n",
        "          target_network_update_frequency,  gamma, learning_rate, epsilon_start, \n",
        "          epsilon_finish, exploration_fraction, learn_start_size, noop_size):\n",
        "  \n",
        "  env = gym.make(env)\n",
        "  device = torch.device(\"cuda\" if torch.cuda.is_available() else \"cpu\")\n",
        "\n",
        "  random.seed(seed)\n",
        "  np.random.seed(seed)\n",
        "  torch.manual_seed(seed)\n",
        "  torch.backends.cudnn.deterministic = True if seed > 0 else False\n",
        "\n",
        "  # Initialise replay memory D to capacity N\n",
        "  buffer = ReplayBuffer(buffer_size)\n",
        "\n",
        "  # Initialize action-value function Q and target network.\n",
        "  q_network = DeepQNetworkCartpole(env).to(device)\n",
        "  target_network = DeepQNetworkCartpole(env).to(device)\n",
        "  target_network.load_state_dict(q_network.state_dict())\n",
        "  optimiser = torch.optim.Adam(q_network.parameters(), learning_rate)\n",
        "\n",
        "  obs = env.reset()\n",
        "  episode_end_steps = []\n",
        "  episode_rewards = []\n",
        "  last_episode_end_step = 0\n",
        "\n",
        "  for step in range(total_timesteps):\n",
        "\n",
        "    # Select random action with p(epsilon), else argmax(q).\n",
        "    epsilon = calculate_epsilon(step, epsilon_start, epsilon_finish, \n",
        "                                total_timesteps, exploration_fraction)\n",
        "    \n",
        "    # Add noop code later - probably will kill Cartpole.\n",
        "    if random.random() < epsilon:\n",
        "      action = env.action_space.sample()\n",
        "    else:\n",
        "      logits = q_network(torch.Tensor(obs).to(device))\n",
        "      action = torch.argmax(logits, dim=0).cpu().numpy().tolist()\n",
        "\n",
        "    next_obs, reward, done, info = env.step(action)\n",
        "\n",
        "    next_obs_copy = next_obs.copy()\n",
        "\n",
        "    # Store transition in D.\n",
        "    buffer.add({\"obs\": obs, \"next_obs\": next_obs_copy, \"action\": [action], \n",
        "                \"reward\": [reward], \"done\": [1. if done else 0.], \"info\": info})\n",
        "    \n",
        "    if done: # If episode is done.\n",
        "      print(f\"global_step={step}, episodic_return={step-last_episode_end_step}\")\n",
        "      episode_end_steps.append(step)\n",
        "      episode_rewards.append(step-last_episode_end_step)\n",
        "      last_episode_end_step = step\n",
        "      obs = env.reset()\n",
        "      continue\n",
        "\n",
        "    obs = next_obs\n",
        "\n",
        "    if step > learn_start_size and step % train_frequency == 0:\n",
        "\n",
        "      # Sample replay experiences.\n",
        "      experiences = buffer.sample(batch_size)\n",
        "\n",
        "      with torch.no_grad(): # We want to sample the Q-network here, but not update it yet.\n",
        "\n",
        "        # Changing target_network to q_network here implements DDQN, which is superior.\n",
        "        target_max, _ = q_network(experiences[\"next_obs\"]).max(dim=1) # The _ removes the indices we don't want, leaving only the values.\n",
        "        td_target = experiences[\"rewards\"].flatten() + gamma * target_max * (1 - experiences[\"dones\"].flatten()) # If done, sets second term to 0, since we just want rewards.\n",
        "\n",
        "      old_val = q_network(experiences[\"obs\"]).gather(1, experiences[\"actions\"]).squeeze() # Collect tensor of predicted rewards associated with the actions taken.\n",
        "\n",
        "      # Calculate loss\n",
        "      loss = F.mse_loss(td_target, old_val)\n",
        "\n",
        "      # Gradient descent\n",
        "      optimiser.zero_grad()\n",
        "      loss.backward()\n",
        "      optimiser.step()\n",
        "\n",
        "    # Update target network.\n",
        "    if step % target_network_update_frequency == 0:\n",
        "      target_network.load_state_dict(q_network.state_dict())\n",
        "\n",
        "  env.close()\n",
        "  plot_results(episode_end_steps, episode_rewards, total_timesteps)\n",
        "\n",
        "train(env='CartPole-v1', total_timesteps=100000, batch_size=32, buffer_size=100000, \n",
        "      train_frequency=4, seed=1, target_network_update_frequency=500, \n",
        "      gamma=0.99, learning_rate=2.5e-4, epsilon_start=1, epsilon_finish=0.01, \n",
        "      exploration_fraction=0.1, learn_start_size=8000, noop_size=30)"
      ]
    }
  ],
  "metadata": {
    "colab": {
      "name": "DQN_From_Scratch.ipynb",
      "provenance": [],
      "authorship_tag": "ABX9TyOAaglggmHkKRVKHnQ3TP3E"
    },
    "kernelspec": {
      "display_name": "Python 3",
      "name": "python3"
    },
    "language_info": {
      "name": "python"
    }
  },
  "nbformat": 4,
  "nbformat_minor": 0
}
